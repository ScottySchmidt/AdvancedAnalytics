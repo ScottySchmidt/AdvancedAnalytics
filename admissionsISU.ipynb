{
 "cells": [
  {
   "cell_type": "markdown",
   "id": "e81677bc",
   "metadata": {
    "papermill": {
     "duration": 0.004538,
     "end_time": "2022-08-30T17:44:01.725600",
     "exception": false,
     "start_time": "2022-08-30T17:44:01.721062",
     "status": "completed"
    },
    "tags": []
   },
   "source": [
    "# Admissions Analysis\n",
    "#### Bus471 Data Analytics\n",
    "Illinois State University; Scott Schmidt\n"
   ]
  },
  {
   "cell_type": "markdown",
   "id": "783a2822",
   "metadata": {
    "papermill": {
     "duration": 0.005461,
     "end_time": "2022-08-30T17:44:01.734613",
     "exception": false,
     "start_time": "2022-08-30T17:44:01.729152",
     "status": "completed"
    },
    "tags": []
   },
   "source": [
    "# View Data"
   ]
  },
  {
   "cell_type": "code",
   "execution_count": 1,
   "id": "0203e8f4",
   "metadata": {
    "execution": {
     "iopub.execute_input": "2022-08-30T17:44:01.746032Z",
     "iopub.status.busy": "2022-08-30T17:44:01.743757Z",
     "iopub.status.idle": "2022-08-30T17:45:01.485664Z",
     "shell.execute_reply": "2022-08-30T17:45:01.483148Z"
    },
    "papermill": {
     "duration": 59.751551,
     "end_time": "2022-08-30T17:45:01.489961",
     "exception": false,
     "start_time": "2022-08-30T17:44:01.738410",
     "status": "completed"
    },
    "tags": []
   },
   "outputs": [
    {
     "name": "stderr",
     "output_type": "stream",
     "text": [
      "Installing package into ‘/usr/local/lib/R/site-library’\n",
      "(as ‘lib’ is unspecified)\n",
      "\n",
      "also installing the dependencies ‘rJava’, ‘xlsxjars’\n",
      "\n",
      "\n",
      "Loading required package: ggplot2\n",
      "\n",
      "Loading required package: lattice\n",
      "\n",
      "\n",
      "Attaching package: ‘caret’\n",
      "\n",
      "\n",
      "The following object is masked from ‘package:httr’:\n",
      "\n",
      "    progress\n",
      "\n",
      "\n",
      "Loaded gbm 2.1.8\n",
      "\n"
     ]
    },
    {
     "data": {
      "text/html": [
       "<table class=\"dataframe\">\n",
       "<caption>A data.frame: 6 × 4</caption>\n",
       "<thead>\n",
       "\t<tr><th></th><th scope=col>admit</th><th scope=col>gre</th><th scope=col>gpa</th><th scope=col>rank</th></tr>\n",
       "\t<tr><th></th><th scope=col>&lt;dbl&gt;</th><th scope=col>&lt;dbl&gt;</th><th scope=col>&lt;dbl&gt;</th><th scope=col>&lt;dbl&gt;</th></tr>\n",
       "</thead>\n",
       "<tbody>\n",
       "\t<tr><th scope=row>1</th><td>0</td><td>380</td><td>3.61</td><td>3</td></tr>\n",
       "\t<tr><th scope=row>2</th><td>1</td><td>660</td><td>3.67</td><td>3</td></tr>\n",
       "\t<tr><th scope=row>3</th><td>1</td><td>800</td><td>4.00</td><td>1</td></tr>\n",
       "\t<tr><th scope=row>4</th><td>1</td><td>640</td><td>3.19</td><td>4</td></tr>\n",
       "\t<tr><th scope=row>5</th><td>0</td><td>520</td><td>2.93</td><td>4</td></tr>\n",
       "\t<tr><th scope=row>6</th><td>1</td><td>760</td><td>3.00</td><td>2</td></tr>\n",
       "</tbody>\n",
       "</table>\n"
      ],
      "text/latex": [
       "A data.frame: 6 × 4\n",
       "\\begin{tabular}{r|llll}\n",
       "  & admit & gre & gpa & rank\\\\\n",
       "  & <dbl> & <dbl> & <dbl> & <dbl>\\\\\n",
       "\\hline\n",
       "\t1 & 0 & 380 & 3.61 & 3\\\\\n",
       "\t2 & 1 & 660 & 3.67 & 3\\\\\n",
       "\t3 & 1 & 800 & 4.00 & 1\\\\\n",
       "\t4 & 1 & 640 & 3.19 & 4\\\\\n",
       "\t5 & 0 & 520 & 2.93 & 4\\\\\n",
       "\t6 & 1 & 760 & 3.00 & 2\\\\\n",
       "\\end{tabular}\n"
      ],
      "text/markdown": [
       "\n",
       "A data.frame: 6 × 4\n",
       "\n",
       "| <!--/--> | admit &lt;dbl&gt; | gre &lt;dbl&gt; | gpa &lt;dbl&gt; | rank &lt;dbl&gt; |\n",
       "|---|---|---|---|---|\n",
       "| 1 | 0 | 380 | 3.61 | 3 |\n",
       "| 2 | 1 | 660 | 3.67 | 3 |\n",
       "| 3 | 1 | 800 | 4.00 | 1 |\n",
       "| 4 | 1 | 640 | 3.19 | 4 |\n",
       "| 5 | 0 | 520 | 2.93 | 4 |\n",
       "| 6 | 1 | 760 | 3.00 | 2 |\n",
       "\n"
      ],
      "text/plain": [
       "  admit gre gpa  rank\n",
       "1 0     380 3.61 3   \n",
       "2 1     660 3.67 3   \n",
       "3 1     800 4.00 1   \n",
       "4 1     640 3.19 4   \n",
       "5 0     520 2.93 4   \n",
       "6 1     760 3.00 2   "
      ]
     },
     "metadata": {},
     "output_type": "display_data"
    }
   ],
   "source": [
    "install.packages(\"xlsx\")\n",
    "library(\"xlsx\")\n",
    "library(data.table)\n",
    "library(caret)\n",
    "library(gbm)\n",
    "\n",
    "file='../input/admissions/admissions.xlsx'\n",
    "df= read.xlsx(file, 1, header=TRUE)\n",
    "head(df)"
   ]
  },
  {
   "cell_type": "code",
   "execution_count": 2,
   "id": "b8a364de",
   "metadata": {
    "execution": {
     "iopub.execute_input": "2022-08-30T17:45:01.534546Z",
     "iopub.status.busy": "2022-08-30T17:45:01.502603Z",
     "iopub.status.idle": "2022-08-30T17:45:01.553373Z",
     "shell.execute_reply": "2022-08-30T17:45:01.551644Z"
    },
    "papermill": {
     "duration": 0.059547,
     "end_time": "2022-08-30T17:45:01.556036",
     "exception": false,
     "start_time": "2022-08-30T17:45:01.496489",
     "status": "completed"
    },
    "tags": []
   },
   "outputs": [
    {
     "data": {
      "text/plain": [
       "     admit             gre             gpa             rank      \n",
       " Min.   :0.0000   Min.   :220.0   Min.   :2.260   Min.   :1.000  \n",
       " 1st Qu.:0.0000   1st Qu.:520.0   1st Qu.:3.130   1st Qu.:2.000  \n",
       " Median :0.0000   Median :580.0   Median :3.395   Median :2.000  \n",
       " Mean   :0.3175   Mean   :587.7   Mean   :3.390   Mean   :2.485  \n",
       " 3rd Qu.:1.0000   3rd Qu.:660.0   3rd Qu.:3.670   3rd Qu.:3.000  \n",
       " Max.   :1.0000   Max.   :800.0   Max.   :4.000   Max.   :4.000  "
      ]
     },
     "metadata": {},
     "output_type": "display_data"
    }
   ],
   "source": [
    "summary(df);"
   ]
  },
  {
   "cell_type": "markdown",
   "id": "387f92be",
   "metadata": {
    "papermill": {
     "duration": 0.006525,
     "end_time": "2022-08-30T17:45:01.569201",
     "exception": false,
     "start_time": "2022-08-30T17:45:01.562676",
     "status": "completed"
    },
    "tags": []
   },
   "source": [
    "# Treat Missing Values"
   ]
  },
  {
   "cell_type": "code",
   "execution_count": 3,
   "id": "b2748b11",
   "metadata": {
    "execution": {
     "iopub.execute_input": "2022-08-30T17:45:01.583395Z",
     "iopub.status.busy": "2022-08-30T17:45:01.580635Z",
     "iopub.status.idle": "2022-08-30T17:45:01.602068Z",
     "shell.execute_reply": "2022-08-30T17:45:01.599025Z"
    },
    "papermill": {
     "duration": 0.03204,
     "end_time": "2022-08-30T17:45:01.606004",
     "exception": false,
     "start_time": "2022-08-30T17:45:01.573964",
     "status": "completed"
    },
    "tags": []
   },
   "outputs": [],
   "source": [
    "df <- na.omit(df)"
   ]
  },
  {
   "cell_type": "markdown",
   "id": "4f3e932c",
   "metadata": {
    "papermill": {
     "duration": 0.007545,
     "end_time": "2022-08-30T17:45:01.621173",
     "exception": false,
     "start_time": "2022-08-30T17:45:01.613628",
     "status": "completed"
    },
    "tags": []
   },
   "source": [
    "# Acceptance Analysis"
   ]
  },
  {
   "cell_type": "code",
   "execution_count": 4,
   "id": "2c562654",
   "metadata": {
    "execution": {
     "iopub.execute_input": "2022-08-30T17:45:01.635411Z",
     "iopub.status.busy": "2022-08-30T17:45:01.632875Z",
     "iopub.status.idle": "2022-08-30T17:45:01.662116Z",
     "shell.execute_reply": "2022-08-30T17:45:01.660182Z"
    },
    "papermill": {
     "duration": 0.038664,
     "end_time": "2022-08-30T17:45:01.664896",
     "exception": false,
     "start_time": "2022-08-30T17:45:01.626232",
     "status": "completed"
    },
    "tags": []
   },
   "outputs": [
    {
     "data": {
      "text/plain": [
       "     rank\n",
       "admit  1  2  3  4\n",
       "    0 28 97 93 55\n",
       "    1 33 54 28 12"
      ]
     },
     "metadata": {},
     "output_type": "display_data"
    }
   ],
   "source": [
    "xtabs(~admit + rank, data = df)"
   ]
  },
  {
   "cell_type": "markdown",
   "id": "331fa927",
   "metadata": {
    "papermill": {
     "duration": 0.006492,
     "end_time": "2022-08-30T17:45:01.677812",
     "exception": false,
     "start_time": "2022-08-30T17:45:01.671320",
     "status": "completed"
    },
    "tags": []
   },
   "source": [
    "# Correlations"
   ]
  },
  {
   "cell_type": "code",
   "execution_count": 5,
   "id": "2f764fe5",
   "metadata": {
    "execution": {
     "iopub.execute_input": "2022-08-30T17:45:01.690305Z",
     "iopub.status.busy": "2022-08-30T17:45:01.688539Z",
     "iopub.status.idle": "2022-08-30T17:45:01.713497Z",
     "shell.execute_reply": "2022-08-30T17:45:01.711485Z"
    },
    "papermill": {
     "duration": 0.044317,
     "end_time": "2022-08-30T17:45:01.726559",
     "exception": false,
     "start_time": "2022-08-30T17:45:01.682242",
     "status": "completed"
    },
    "tags": []
   },
   "outputs": [
    {
     "data": {
      "text/plain": [
       "\n",
       "\tPearson's product-moment correlation\n",
       "\n",
       "data:  df$admit and df$gre\n",
       "t = 3.7437, df = 398, p-value = 0.0002081\n",
       "alternative hypothesis: true correlation is not equal to 0\n",
       "95 percent confidence interval:\n",
       " 0.08797348 0.27746823\n",
       "sample estimates:\n",
       "      cor \n",
       "0.1844343 \n"
      ]
     },
     "metadata": {},
     "output_type": "display_data"
    }
   ],
   "source": [
    "cor.test(df$admit, df$gre)"
   ]
  },
  {
   "cell_type": "code",
   "execution_count": 6,
   "id": "f64f03e9",
   "metadata": {
    "execution": {
     "iopub.execute_input": "2022-08-30T17:45:01.743580Z",
     "iopub.status.busy": "2022-08-30T17:45:01.741876Z",
     "iopub.status.idle": "2022-08-30T17:45:01.761276Z",
     "shell.execute_reply": "2022-08-30T17:45:01.759076Z"
    },
    "papermill": {
     "duration": 0.031231,
     "end_time": "2022-08-30T17:45:01.764059",
     "exception": false,
     "start_time": "2022-08-30T17:45:01.732828",
     "status": "completed"
    },
    "tags": []
   },
   "outputs": [
    {
     "data": {
      "text/plain": [
       "\n",
       "\tPearson's product-moment correlation\n",
       "\n",
       "data:  df$admit and df$gpa\n",
       "t = 3.6132, df = 398, p-value = 0.0003412\n",
       "alternative hypothesis: true correlation is not equal to 0\n",
       "95 percent confidence interval:\n",
       " 0.08158617 0.27151944\n",
       "sample estimates:\n",
       "      cor \n",
       "0.1782123 \n"
      ]
     },
     "metadata": {},
     "output_type": "display_data"
    }
   ],
   "source": [
    "cor.test(df$admit, df$gpa)"
   ]
  },
  {
   "cell_type": "code",
   "execution_count": 7,
   "id": "264beefa",
   "metadata": {
    "execution": {
     "iopub.execute_input": "2022-08-30T17:45:01.780934Z",
     "iopub.status.busy": "2022-08-30T17:45:01.779341Z",
     "iopub.status.idle": "2022-08-30T17:45:01.797865Z",
     "shell.execute_reply": "2022-08-30T17:45:01.795976Z"
    },
    "papermill": {
     "duration": 0.030129,
     "end_time": "2022-08-30T17:45:01.800760",
     "exception": false,
     "start_time": "2022-08-30T17:45:01.770631",
     "status": "completed"
    },
    "tags": []
   },
   "outputs": [
    {
     "data": {
      "text/plain": [
       "\n",
       "\tPearson's product-moment correlation\n",
       "\n",
       "data:  df$admit and df$rank\n",
       "t = -4.987, df = 398, p-value = 9.175e-07\n",
       "alternative hypothesis: true correlation is not equal to 0\n",
       "95 percent confidence interval:\n",
       " -0.3326548 -0.1479803\n",
       "sample estimates:\n",
       "       cor \n",
       "-0.2425132 \n"
      ]
     },
     "metadata": {},
     "output_type": "display_data"
    }
   ],
   "source": [
    "cor.test(df$admit, df$rank)"
   ]
  },
  {
   "cell_type": "markdown",
   "id": "ac6bc431",
   "metadata": {
    "papermill": {
     "duration": 0.006437,
     "end_time": "2022-08-30T17:45:01.814092",
     "exception": false,
     "start_time": "2022-08-30T17:45:01.807655",
     "status": "completed"
    },
    "tags": []
   },
   "source": [
    "# Logistic Regression"
   ]
  },
  {
   "cell_type": "code",
   "execution_count": 8,
   "id": "df81496e",
   "metadata": {
    "execution": {
     "iopub.execute_input": "2022-08-30T17:45:01.827895Z",
     "iopub.status.busy": "2022-08-30T17:45:01.826312Z",
     "iopub.status.idle": "2022-08-30T17:45:01.870850Z",
     "shell.execute_reply": "2022-08-30T17:45:01.868993Z"
    },
    "papermill": {
     "duration": 0.054375,
     "end_time": "2022-08-30T17:45:01.873520",
     "exception": false,
     "start_time": "2022-08-30T17:45:01.819145",
     "status": "completed"
    },
    "tags": []
   },
   "outputs": [
    {
     "data": {
      "text/plain": [
       "\n",
       "Call:\n",
       "glm(formula = admit ~ gre + gpa + rank, family = \"binomial\", \n",
       "    data = df)\n",
       "\n",
       "Deviance Residuals: \n",
       "    Min       1Q   Median       3Q      Max  \n",
       "-1.6268  -0.8662  -0.6388   1.1490   2.0790  \n",
       "\n",
       "Coefficients:\n",
       "             Estimate Std. Error z value Pr(>|z|)    \n",
       "(Intercept) -3.989979   1.139951  -3.500 0.000465 ***\n",
       "gre          0.002264   0.001094   2.070 0.038465 *  \n",
       "gpa          0.804038   0.331819   2.423 0.015388 *  \n",
       "rank2       -0.675443   0.316490  -2.134 0.032829 *  \n",
       "rank3       -1.340204   0.345306  -3.881 0.000104 ***\n",
       "rank4       -1.551464   0.417832  -3.713 0.000205 ***\n",
       "---\n",
       "Signif. codes:  0 ‘***’ 0.001 ‘**’ 0.01 ‘*’ 0.05 ‘.’ 0.1 ‘ ’ 1\n",
       "\n",
       "(Dispersion parameter for binomial family taken to be 1)\n",
       "\n",
       "    Null deviance: 499.98  on 399  degrees of freedom\n",
       "Residual deviance: 458.52  on 394  degrees of freedom\n",
       "AIC: 470.52\n",
       "\n",
       "Number of Fisher Scoring iterations: 4\n"
      ]
     },
     "metadata": {},
     "output_type": "display_data"
    }
   ],
   "source": [
    "df$rank <- factor(df$rank)\n",
    "mylogit <- glm(admit ~ gre + gpa + rank, data = df, family = \"binomial\")\n",
    "summary(mylogit)"
   ]
  },
  {
   "cell_type": "markdown",
   "id": "339a078a",
   "metadata": {
    "papermill": {
     "duration": 0.005436,
     "end_time": "2022-08-30T17:45:01.883982",
     "exception": false,
     "start_time": "2022-08-30T17:45:01.878546",
     "status": "completed"
    },
    "tags": []
   },
   "source": [
    "# New Result"
   ]
  },
  {
   "cell_type": "code",
   "execution_count": 9,
   "id": "affec916",
   "metadata": {
    "execution": {
     "iopub.execute_input": "2022-08-30T17:45:01.903261Z",
     "iopub.status.busy": "2022-08-30T17:45:01.901437Z",
     "iopub.status.idle": "2022-08-30T17:45:01.925554Z",
     "shell.execute_reply": "2022-08-30T17:45:01.923530Z"
    },
    "papermill": {
     "duration": 0.039516,
     "end_time": "2022-08-30T17:45:01.928395",
     "exception": false,
     "start_time": "2022-08-30T17:45:01.888879",
     "status": "completed"
    },
    "tags": []
   },
   "outputs": [
    {
     "data": {
      "text/html": [
       "'New File Created'"
      ],
      "text/latex": [
       "'New File Created'"
      ],
      "text/markdown": [
       "'New File Created'"
      ],
      "text/plain": [
       "[1] \"New File Created\""
      ]
     },
     "metadata": {},
     "output_type": "display_data"
    }
   ],
   "source": [
    "newFile=\"results.csv\"\n",
    "fwrite(df, newFile)\n",
    "paste(\"New File Created\")"
   ]
  }
 ],
 "metadata": {
  "kernelspec": {
   "display_name": "R",
   "language": "R",
   "name": "ir"
  },
  "language_info": {
   "codemirror_mode": "r",
   "file_extension": ".r",
   "mimetype": "text/x-r-source",
   "name": "R",
   "pygments_lexer": "r",
   "version": "4.0.5"
  },
  "papermill": {
   "default_parameters": {},
   "duration": 64.042657,
   "end_time": "2022-08-30T17:45:02.060066",
   "environment_variables": {},
   "exception": null,
   "input_path": "__notebook__.ipynb",
   "output_path": "__notebook__.ipynb",
   "parameters": {},
   "start_time": "2022-08-30T17:43:58.017409",
   "version": "2.3.4"
  }
 },
 "nbformat": 4,
 "nbformat_minor": 5
}
